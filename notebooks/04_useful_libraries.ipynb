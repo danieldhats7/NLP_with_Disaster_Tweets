{
 "cells": [
  {
   "cell_type": "code",
   "execution_count": 1,
   "metadata": {},
   "outputs": [],
   "source": [
    "import sys\n",
    "sys.path.append('..')\n",
    "import pandas as pd"
   ]
  },
  {
   "cell_type": "markdown",
   "metadata": {},
   "source": [
    "## 1.- [dabl](https://amueller.github.io/dabl/dev/index.html)\n",
    "dabl ha sido creado por Andreas Mueller e intenta ayudar a que el aprendizaje automático supervisado sea más accesible para los principiantes y reducir la placa de caldera para tareas comunes. Dabl se inspira en scikit-learn y auto-sklearn. Consulte el sitio web oficial para obtener más información."
   ]
  },
  {
   "cell_type": "code",
   "execution_count": 2,
   "metadata": {},
   "outputs": [
    {
     "name": "stderr",
     "output_type": "stream",
     "text": [
      "c:\\Users\\daniel\\Desktop\\practica\\NLP_with_Disaster_Tweets\\nlpenv\\lib\\site-packages\\sklearn\\experimental\\enable_hist_gradient_boosting.py:16: UserWarning: Since version 1.0, it is not needed to import enable_hist_gradient_boosting anymore. HistGradientBoostingClassifier and HistGradientBoostingRegressor are now stable and can be normally imported from sklearn.ensemble.\n",
      "  warnings.warn(\n"
     ]
    }
   ],
   "source": [
    "import dabl"
   ]
  },
  {
   "cell_type": "code",
   "execution_count": 3,
   "metadata": {},
   "outputs": [
    {
     "data": {
      "text/plain": [
       "(7613, 5)"
      ]
     },
     "execution_count": 3,
     "metadata": {},
     "output_type": "execute_result"
    }
   ],
   "source": [
    "train = pd.read_csv('../data/train.csv')\n",
    "train.shape"
   ]
  },
  {
   "cell_type": "code",
   "execution_count": 4,
   "metadata": {},
   "outputs": [
    {
     "name": "stdout",
     "output_type": "stream",
     "text": [
      "Detected feature types:\n",
      "continuous      1\n",
      "dirty_float     0\n",
      "low_card_int    0\n",
      "categorical     1\n",
      "date            0\n",
      "free_string     3\n",
      "useless         0\n",
      "dtype: int64\n"
     ]
    }
   ],
   "source": [
    "train_clean = dabl.clean(train, verbose=1)"
   ]
  },
  {
   "cell_type": "code",
   "execution_count": 5,
   "metadata": {},
   "outputs": [
    {
     "name": "stdout",
     "output_type": "stream",
     "text": [
      "          continuous  dirty_float  low_card_int  categorical   date  \\\n",
      "id              True        False         False        False  False   \n",
      "keyword        False        False         False        False  False   \n",
      "location       False        False         False        False  False   \n",
      "text           False        False         False        False  False   \n",
      "target         False        False         False         True  False   \n",
      "\n",
      "          free_string  useless  \n",
      "id              False    False  \n",
      "keyword          True    False  \n",
      "location         True    False  \n",
      "text             True    False  \n",
      "target          False    False  \n"
     ]
    }
   ],
   "source": [
    "types = dabl.detect_types(train_clean)\n",
    "print(types) "
   ]
  },
  {
   "cell_type": "code",
   "execution_count": 6,
   "metadata": {},
   "outputs": [
    {
     "name": "stdout",
     "output_type": "stream",
     "text": [
      "Target looks like classification\n"
     ]
    },
    {
     "data": {
      "text/plain": [
       "[[<Figure size 216x216 with 2 Axes>], None]"
      ]
     },
     "execution_count": 6,
     "metadata": {},
     "output_type": "execute_result"
    },
    {
     "data": {
      "image/png": "[encoded data removed]",
      "text/plain": [
       "<Figure size 432x288 with 1 Axes>"
      ]
     },
     "metadata": {
      "needs_background": "light"
     },
     "output_type": "display_data"
    },
    {
     "data": {
      "image/png": "[encoded data removed]",
      "text/plain": [
       "<Figure size 216x216 with 2 Axes>"
      ]
     },
     "metadata": {
      "needs_background": "light"
     },
     "output_type": "display_data"
    }
   ],
   "source": [
    "dabl.plot(train, target_col=\"target\")"
   ]
  },
  {
   "cell_type": "code",
   "execution_count": 7,
   "metadata": {},
   "outputs": [
    {
     "name": "stdout",
     "output_type": "stream",
     "text": [
      "Running DummyClassifier()\n",
      "accuracy: 0.570 average_precision: 0.430 roc_auc: 0.500 recall_macro: 0.500 f1_macro: 0.363\n",
      "=== new best DummyClassifier() (using recall_macro):\n",
      "accuracy: 0.570 average_precision: 0.430 roc_auc: 0.500 recall_macro: 0.500 f1_macro: 0.363\n",
      "\n",
      "Running GaussianNB()\n",
      "accuracy: 0.570 average_precision: 0.465 roc_auc: 0.536 recall_macro: 0.500 f1_macro: 0.363\n",
      "Running MultinomialNB()\n",
      "accuracy: 0.570 average_precision: 0.430 roc_auc: 0.500 recall_macro: 0.500 f1_macro: 0.363\n",
      "Running DecisionTreeClassifier(class_weight='balanced', max_depth=1)\n",
      "accuracy: 0.488 average_precision: 0.450 roc_auc: 0.539 recall_macro: 0.539 f1_macro: 0.441\n",
      "=== new best DecisionTreeClassifier(class_weight='balanced', max_depth=1) (using recall_macro):\n",
      "accuracy: 0.488 average_precision: 0.450 roc_auc: 0.539 recall_macro: 0.539 f1_macro: 0.441\n",
      "\n",
      "Running DecisionTreeClassifier(class_weight='balanced', max_depth=5)\n",
      "accuracy: 0.534 average_precision: 0.506 roc_auc: 0.590 recall_macro: 0.554 f1_macro: 0.513\n",
      "=== new best DecisionTreeClassifier(class_weight='balanced', max_depth=5) (using recall_macro):\n",
      "accuracy: 0.534 average_precision: 0.506 roc_auc: 0.590 recall_macro: 0.554 f1_macro: 0.513\n",
      "\n",
      "Running DecisionTreeClassifier(class_weight='balanced', min_impurity_decrease=0.01)\n",
      "accuracy: 0.458 average_precision: 0.430 roc_auc: 0.500 recall_macro: 0.500 f1_macro: 0.313\n",
      "Running LogisticRegression(C=0.1, class_weight='balanced', max_iter=1000)\n",
      "accuracy: 0.523 average_precision: 0.465 roc_auc: 0.536 recall_macro: 0.523 f1_macro: 0.520\n",
      "Running LogisticRegression(class_weight='balanced', max_iter=1000)\n",
      "accuracy: 0.523 average_precision: 0.465 roc_auc: 0.536 recall_macro: 0.523 f1_macro: 0.520\n",
      "\n",
      "Best model:\n",
      "DecisionTreeClassifier(class_weight='balanced', max_depth=5)\n",
      "Best Scores:\n",
      "accuracy: 0.534 average_precision: 0.506 roc_auc: 0.590 recall_macro: 0.554 f1_macro: 0.513\n"
     ]
    }
   ],
   "source": [
    "ec = dabl.SimpleClassifier(random_state=0).fit(train, target_col=\"target\") "
   ]
  },
  {
   "cell_type": "markdown",
   "metadata": {},
   "source": [
    "## 2.- [missingno](https://github.com/ResidentMario/missingno)\n",
    "Los datos en la vida real son desordenados y faltantes, no nos ayuda a lidiar con los valores faltantes en un conjunto de datos con la ayuda de visualizaciones. Con más de 2k estrellas en github, esta biblioteca ya es muy popular."
   ]
  },
  {
   "cell_type": "code",
   "execution_count": 8,
   "metadata": {},
   "outputs": [],
   "source": [
    "import missingno as msno"
   ]
  },
  {
   "cell_type": "code",
   "execution_count": 9,
   "metadata": {},
   "outputs": [
    {
     "name": "stdout",
     "output_type": "stream",
     "text": [
      "<class 'pandas.core.frame.DataFrame'>\n",
      "RangeIndex: 7613 entries, 0 to 7612\n",
      "Data columns (total 5 columns):\n",
      " #   Column    Non-Null Count  Dtype \n",
      "---  ------    --------------  ----- \n",
      " 0   id        7613 non-null   int64 \n",
      " 1   keyword   7552 non-null   object\n",
      " 2   location  5080 non-null   object\n",
      " 3   text      7613 non-null   object\n",
      " 4   target    7613 non-null   int64 \n",
      "dtypes: int64(2), object(3)\n",
      "memory usage: 297.5+ KB\n"
     ]
    }
   ],
   "source": [
    "train.info()"
   ]
  },
  {
   "cell_type": "code",
   "execution_count": 10,
   "metadata": {},
   "outputs": [
    {
     "data": {
      "text/plain": [
       "<AxesSubplot:>"
      ]
     },
     "execution_count": 10,
     "metadata": {},
     "output_type": "execute_result"
    },
    {
     "data": {
      "image/png": "[encoded data removed]",
      "text/plain": [
       "<Figure size 1800x720 with 2 Axes>"
      ]
     },
     "metadata": {
      "needs_background": "light"
     },
     "output_type": "display_data"
    }
   ],
   "source": [
    "msno.matrix(train)"
   ]
  },
  {
   "cell_type": "code",
   "execution_count": 11,
   "metadata": {},
   "outputs": [
    {
     "data": {
      "text/plain": [
       "id             0\n",
       "keyword       61\n",
       "location    2533\n",
       "text           0\n",
       "target         0\n",
       "dtype: int64"
      ]
     },
     "execution_count": 11,
     "metadata": {},
     "output_type": "execute_result"
    }
   ],
   "source": [
    "train.isna().sum()"
   ]
  },
  {
   "cell_type": "code",
   "execution_count": 12,
   "metadata": {},
   "outputs": [
    {
     "data": {
      "text/plain": [
       "<AxesSubplot:>"
      ]
     },
     "execution_count": 12,
     "metadata": {},
     "output_type": "execute_result"
    },
    {
     "data": {
      "image/png": "[encoded data removed]",
      "text/plain": [
       "<Figure size 1800x720 with 2 Axes>"
      ]
     },
     "metadata": {
      "needs_background": "light"
     },
     "output_type": "display_data"
    }
   ],
   "source": [
    "msno.matrix(train.sample(50))"
   ]
  },
  {
   "cell_type": "code",
   "execution_count": 13,
   "metadata": {},
   "outputs": [
    {
     "data": {
      "text/plain": [
       "<AxesSubplot:>"
      ]
     },
     "execution_count": 13,
     "metadata": {},
     "output_type": "execute_result"
    },
    {
     "data": {
      "image/png": "[encoded data removed]",
      "text/plain": [
       "<Figure size 1800x720 with 3 Axes>"
      ]
     },
     "metadata": {
      "needs_background": "light"
     },
     "output_type": "display_data"
    }
   ],
   "source": [
    "msno.bar(train)"
   ]
  },
  {
   "cell_type": "code",
   "execution_count": 14,
   "metadata": {},
   "outputs": [
    {
     "data": {
      "text/plain": [
       "<AxesSubplot:>"
      ]
     },
     "execution_count": 14,
     "metadata": {},
     "output_type": "execute_result"
    },
    {
     "data": {
      "image/png": "[encoded data removed]",
      "text/plain": [
       "<Figure size 1440x864 with 2 Axes>"
      ]
     },
     "metadata": {
      "needs_background": "light"
     },
     "output_type": "display_data"
    }
   ],
   "source": [
    "msno.heatmap(train)"
   ]
  },
  {
   "cell_type": "markdown",
   "metadata": {},
   "source": [
    "## 3.- [Emot](https://github.com/NeelShah18/emot)\n",
    "Emot es un paquete de detección de emojis y emoticonos para Python. Puede resultar muy útil cuando tenemos que preprocesar nuestros datos de texto para deshacernos de los emoticonos."
   ]
  },
  {
   "cell_type": "markdown",
   "metadata": {},
   "source": [
    "## 4.- [Flashtext](https://github.com/vi3k6i5/flashtext)\n",
    "Flastext le permite extraer palabras clave de una oración o reemplazar palabras clave en oraciones. Se basa en el algoritmo FlashText y es considerablemente más rápido que las expresiones regulares para tareas de NLP."
   ]
  },
  {
   "cell_type": "code",
   "execution_count": 15,
   "metadata": {},
   "outputs": [],
   "source": [
    "from flashtext import KeywordProcessor"
   ]
  },
  {
   "cell_type": "markdown",
   "metadata": {},
   "source": [
    "El conjunto de datos es de la competencia: [Real or Not? NLP with Disaster Tweets](https://www.kaggle.com/c/nlp-getting-started) donde nuestro trabajo es crear un modelo ML para predecir si los tweets del conjunto de prueba pertenecen a un desastre o no, en forma de 1 o 0.Este es un caso clásico de un problema de clasificación binaria."
   ]
  },
  {
   "cell_type": "code",
   "execution_count": 16,
   "metadata": {},
   "outputs": [
    {
     "data": {
      "text/html": [
       "<div>\n",
       "<style scoped>\n",
       "    .dataframe tbody tr th:only-of-type {\n",
       "        vertical-align: middle;\n",
       "    }\n",
       "\n",
       "    .dataframe tbody tr th {\n",
       "        vertical-align: top;\n",
       "    }\n",
       "\n",
       "    .dataframe thead th {\n",
       "        text-align: right;\n",
       "    }\n",
       "</style>\n",
       "<table border=\"1\" class=\"dataframe\">\n",
       "  <thead>\n",
       "    <tr style=\"text-align: right;\">\n",
       "      <th></th>\n",
       "      <th>id</th>\n",
       "      <th>keyword</th>\n",
       "      <th>location</th>\n",
       "      <th>text</th>\n",
       "      <th>target</th>\n",
       "    </tr>\n",
       "  </thead>\n",
       "  <tbody>\n",
       "    <tr>\n",
       "      <th>0</th>\n",
       "      <td>1</td>\n",
       "      <td>NaN</td>\n",
       "      <td>NaN</td>\n",
       "      <td>Our Deeds are the Reason of this #earthquake M...</td>\n",
       "      <td>1</td>\n",
       "    </tr>\n",
       "    <tr>\n",
       "      <th>1</th>\n",
       "      <td>4</td>\n",
       "      <td>NaN</td>\n",
       "      <td>NaN</td>\n",
       "      <td>Forest fire near La Ronge Sask. Canada</td>\n",
       "      <td>1</td>\n",
       "    </tr>\n",
       "    <tr>\n",
       "      <th>2</th>\n",
       "      <td>5</td>\n",
       "      <td>NaN</td>\n",
       "      <td>NaN</td>\n",
       "      <td>All residents asked to 'shelter in place' are ...</td>\n",
       "      <td>1</td>\n",
       "    </tr>\n",
       "    <tr>\n",
       "      <th>3</th>\n",
       "      <td>6</td>\n",
       "      <td>NaN</td>\n",
       "      <td>NaN</td>\n",
       "      <td>13,000 people receive #wildfires evacuation or...</td>\n",
       "      <td>1</td>\n",
       "    </tr>\n",
       "    <tr>\n",
       "      <th>4</th>\n",
       "      <td>7</td>\n",
       "      <td>NaN</td>\n",
       "      <td>NaN</td>\n",
       "      <td>Just got sent this photo from Ruby #Alaska as ...</td>\n",
       "      <td>1</td>\n",
       "    </tr>\n",
       "  </tbody>\n",
       "</table>\n",
       "</div>"
      ],
      "text/plain": [
       "   id keyword location                                               text  \\\n",
       "0   1     NaN      NaN  Our Deeds are the Reason of this #earthquake M...   \n",
       "1   4     NaN      NaN             Forest fire near La Ronge Sask. Canada   \n",
       "2   5     NaN      NaN  All residents asked to 'shelter in place' are ...   \n",
       "3   6     NaN      NaN  13,000 people receive #wildfires evacuation or...   \n",
       "4   7     NaN      NaN  Just got sent this photo from Ruby #Alaska as ...   \n",
       "\n",
       "   target  \n",
       "0       1  \n",
       "1       1  \n",
       "2       1  \n",
       "3       1  \n",
       "4       1  "
      ]
     },
     "execution_count": 16,
     "metadata": {},
     "output_type": "execute_result"
    }
   ],
   "source": [
    "train.head()"
   ]
  },
  {
   "cell_type": "code",
   "execution_count": 17,
   "metadata": {},
   "outputs": [
    {
     "data": {
      "text/plain": [
       "\"Our Deeds are the Reason of this #earthquake May ALLAH Forgive us all, Forest fire near La Ronge Sask. Canada, All residents asked to 'shelter in place' are being notified by officers. No other evacuation or shelter in place orders are expected, 13,000 people receive #wildfires evacuation orders in California , Just got sent this photo from Ruby #Alaska as smoke from #wildfires pours into a school , #RockyFire Update => California Hwy. 20 closed in both directions due to Lake County fire - #CAfire #wildfires, #flood #disaster Heavy rain causes flash flooding of streets in Manitou, Colorado Springs areas, I'm on top of the hill and I can see a fire in the woods..., There's an emergency evacuation happening now in the building across the street, I'm afraid that the tornado is coming to our area..., Three people died from the heat wave so far, Haha South Tampa is getting flooded hah- WAIT A SECOND I LIVE IN SOUTH TAMPA WHAT AM I GONNA DO WHAT AM I GONNA DO FVCK #flooding, #raining #floodi\""
      ]
     },
     "execution_count": 17,
     "metadata": {},
     "output_type": "execute_result"
    }
   ],
   "source": [
    "corpus = ', '.join(train['text'])\n",
    "corpus[:1000]"
   ]
  },
  {
   "cell_type": "markdown",
   "metadata": {},
   "source": [
    "### 4.1 Extract Keywords or searching for words in a corpus"
   ]
  },
  {
   "cell_type": "code",
   "execution_count": 20,
   "metadata": {},
   "outputs": [
    {
     "name": "stdout",
     "output_type": "stream",
     "text": [
      "58\n"
     ]
    }
   ],
   "source": [
    "# How many times does the word 'flood' appear in the corpus?\n",
    "processor = KeywordProcessor()\n",
    "processor.add_keyword('flood')\n",
    "found = processor.extract_keywords(corpus)\n",
    "print(len(found))"
   ]
  },
  {
   "cell_type": "code",
   "execution_count": 21,
   "metadata": {},
   "outputs": [
    {
     "name": "stdout",
     "output_type": "stream",
     "text": [
      "Our Deeds are the Reason of this #earthquake May ALLAH Forgive us all, fire near La Ronge Sask. Cana\n"
     ]
    }
   ],
   "source": [
    "# Replacing all occurences of word 'forest fire'(case insensitive) with fire\n",
    "processor = KeywordProcessor(case_sensitive = False)\n",
    "processor.add_keyword('forest fire','fire')\n",
    "found = processor.replace_keywords(corpus)\n",
    "print(found[:100])"
   ]
  },
  {
   "cell_type": "markdown",
   "metadata": {},
   "source": [
    "La palabra Forest Fire se reemplaza con solo fire. De la misma manera también podríamos reemplazar caracteres especiales, hipervínculos, etc. de un documento."
   ]
  },
  {
   "cell_type": "markdown",
   "metadata": {},
   "source": [
    "## 5.- [PyFlux](https://pyflux.readthedocs.io/en/latest/getting_started.html)\n",
    "El análisis de series de tiempo es uno de los problemas más frecuentes en el dominio del aprendizaje automático. PyFlux es una biblioteca de código abierto en Python creada explícitamente para trabajar con problemas de series de tiempo. La biblioteca tiene una excelente variedad de modelos modernos de series de tiempo que incluyen, entre otros, los modelos ARIMA, GARCH y VAR. En resumen, PyFlux ofrece un enfoque probabilístico para el modelado de series de tiempo. Vale la pena intentarlo.\n",
    "\n",
    " Para ver cómo funciona esta biblioteca, usaré el conjunto de datos [NIFTY-50 Stock Market Data (2000-2019)](https://www.kaggle.com/rohanrao/nifty50-stock-market-data). Los datos son el historial de precios y los volúmenes de negociación de las cincuenta acciones en el índice NIFTY 50 de NSE (National Stock Exchange) India. Usemos solo acciones de una sola empresa."
   ]
  },
  {
   "cell_type": "code",
   "execution_count": null,
   "metadata": {},
   "outputs": [],
   "source": [
    "import pyflux as pf"
   ]
  },
  {
   "cell_type": "markdown",
   "metadata": {},
   "source": [
    "Para ver mas [aqui](https://www.kaggle.com/parulpandey/useful-python-libraries-for-data-science)"
   ]
  },
  {
   "cell_type": "markdown",
   "metadata": {},
   "source": [
    "## 6.- [Bamboolib](https://bamboolib.8080labs.com/)\n",
    "bamboolib es una GUI para la exploración y transformación de datos en Python Pandas. Es compatible con Jupyter Notebook y JupyterLab. Bamboolib es una biblioteca de código cerrado, pero se puede usar de forma gratuita para datos abiertos a través de Binder o Kaggle. Para obtener más información sobre Bamboolib, visite su sitio web oficial."
   ]
  },
  {
   "cell_type": "markdown",
   "metadata": {},
   "source": []
  }
 ],
 "metadata": {
  "interpreter": {
   "hash": "c4547dae46a4e2d47e5e7e81c258ee8f975cc6d9ac4fdf92fab0d557a46ed73a"
  },
  "kernelspec": {
   "display_name": "Python 3.9.7 64-bit ('nlpenv': venv)",
   "language": "python",
   "name": "python3"
  },
  "language_info": {
   "codemirror_mode": {
    "name": "ipython",
    "version": 3
   },
   "file_extension": ".py",
   "mimetype": "text/x-python",
   "name": "python",
   "nbconvert_exporter": "python",
   "pygments_lexer": "ipython3",
   "version": "3.9.7"
  },
  "orig_nbformat": 4
 },
 "nbformat": 4,
 "nbformat_minor": 2
}
