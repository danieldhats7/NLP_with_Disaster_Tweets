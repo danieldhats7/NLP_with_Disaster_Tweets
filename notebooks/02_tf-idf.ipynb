{
 "cells": [
  {
   "cell_type": "code",
   "execution_count": 2,
   "metadata": {},
   "outputs": [],
   "source": [
    "import sys\n",
    "sys.path.append('..')\n",
    "import pandas as pd\n",
    "import matplotlib.pylab as plt\n",
    "import warnings\n",
    "warnings.filterwarnings('ignore')\n",
    "\n",
    "from sklearn.feature_extraction.text import CountVectorizer, TfidfTransformer, TfidfVectorizer"
   ]
  },
  {
   "cell_type": "code",
   "execution_count": 32,
   "metadata": {},
   "outputs": [],
   "source": [
    "corpus = [\n",
    "    'This is a document.',\n",
    "    'This document is the second document.',\n",
    "    'And this is the third one document.',\n",
    "    'Is this the first document?',\n",
    "]"
   ]
  },
  {
   "cell_type": "markdown",
   "metadata": {},
   "source": [
    "### CountVectorizer\n",
    "Para comenzar a usar  [TfidfTransformer](https://kavita-ganesan.com/tfidftransformer-tfidfvectorizer-usage-differences/), primero tendrá que crear un CountVectorizer para contar el número de palabras (frecuencia de términos), limitar el tamaño de su vocabulario, aplicar palabras vacías , etc. El código siguiente hace precisamente eso."
   ]
  },
  {
   "cell_type": "code",
   "execution_count": 33,
   "metadata": {},
   "outputs": [
    {
     "name": "stdout",
     "output_type": "stream",
     "text": [
      "Shape es (4, 9)\n"
     ]
    },
    {
     "data": {
      "image/png": "[encoded data removed]",
      "text/plain": [
       "<Figure size 504x504 with 1 Axes>"
      ]
     },
     "metadata": {
      "needs_background": "light"
     },
     "output_type": "display_data"
    }
   ],
   "source": [
    "count_vectorizer = CountVectorizer()\n",
    "word_count_vector = count_vectorizer.fit_transform(corpus)\n",
    "plt.figure(figsize=(7,7))\n",
    "plt.spy(word_count_vector)\n",
    "print(f'Shape es {word_count_vector.shape}')"
   ]
  },
  {
   "cell_type": "markdown",
   "metadata": {},
   "source": [
    "Ahora, revisemos la forma. Deberíamos tener 4 filas (4 documentos) y 9 columnas (9 palabras únicas, menos palabras de un solo carácter)\n",
    "\n",
    "Ahora es el momento de calcular las IDF. Tenga en cuenta que en este ejemplo, estamos usando todos los valores predeterminados con CountVectorizer . De hecho, puede especificar una lista personalizada de palabras vacías, imponer un recuento mínimo de palabras, etc. Consulte este artículo sobre cómo utilizar [CountVectorizer](https://kavita-ganesan.com/how-to-use-countvectorizer/)."
   ]
  },
  {
   "cell_type": "code",
   "execution_count": 34,
   "metadata": {},
   "outputs": [
    {
     "data": {
      "text/plain": [
       "array([[0, 1, 0, 1, 0, 0, 0, 0, 1],\n",
       "       [0, 2, 0, 1, 0, 1, 1, 0, 1],\n",
       "       [1, 1, 0, 1, 1, 0, 1, 1, 1],\n",
       "       [0, 1, 1, 1, 0, 0, 1, 0, 1]], dtype=int64)"
      ]
     },
     "execution_count": 34,
     "metadata": {},
     "output_type": "execute_result"
    }
   ],
   "source": [
    "word_count_vector.toarray()"
   ]
  },
  {
   "cell_type": "markdown",
   "metadata": {},
   "source": [
    "### TfidfTransformer\n",
    "Ahora vamos a calcular los valores [IDF](https://kavita-ganesan.com/what-is-inverse-document-frequency/) recurriendo ``` TfidfTran.fit(word_count_vector) ``` a los recuentos de palabras que calculamos anteriormente."
   ]
  },
  {
   "cell_type": "code",
   "execution_count": 35,
   "metadata": {},
   "outputs": [
    {
     "data": {
      "text/plain": [
       "TfidfTransformer()"
      ]
     },
     "execution_count": 35,
     "metadata": {},
     "output_type": "execute_result"
    }
   ],
   "source": [
    "TfidfTran = TfidfTransformer()\n",
    "TfidfTran.fit(word_count_vector)"
   ]
  },
  {
   "cell_type": "code",
   "execution_count": 36,
   "metadata": {},
   "outputs": [
    {
     "data": {
      "text/html": [
       "<div>\n",
       "<style scoped>\n",
       "    .dataframe tbody tr th:only-of-type {\n",
       "        vertical-align: middle;\n",
       "    }\n",
       "\n",
       "    .dataframe tbody tr th {\n",
       "        vertical-align: top;\n",
       "    }\n",
       "\n",
       "    .dataframe thead th {\n",
       "        text-align: right;\n",
       "    }\n",
       "</style>\n",
       "<table border=\"1\" class=\"dataframe\">\n",
       "  <thead>\n",
       "    <tr style=\"text-align: right;\">\n",
       "      <th></th>\n",
       "      <th>idf_weights</th>\n",
       "    </tr>\n",
       "  </thead>\n",
       "  <tbody>\n",
       "    <tr>\n",
       "      <th>document</th>\n",
       "      <td>1.000000</td>\n",
       "    </tr>\n",
       "    <tr>\n",
       "      <th>is</th>\n",
       "      <td>1.000000</td>\n",
       "    </tr>\n",
       "    <tr>\n",
       "      <th>this</th>\n",
       "      <td>1.000000</td>\n",
       "    </tr>\n",
       "    <tr>\n",
       "      <th>the</th>\n",
       "      <td>1.223144</td>\n",
       "    </tr>\n",
       "    <tr>\n",
       "      <th>and</th>\n",
       "      <td>1.916291</td>\n",
       "    </tr>\n",
       "    <tr>\n",
       "      <th>first</th>\n",
       "      <td>1.916291</td>\n",
       "    </tr>\n",
       "    <tr>\n",
       "      <th>one</th>\n",
       "      <td>1.916291</td>\n",
       "    </tr>\n",
       "    <tr>\n",
       "      <th>second</th>\n",
       "      <td>1.916291</td>\n",
       "    </tr>\n",
       "    <tr>\n",
       "      <th>third</th>\n",
       "      <td>1.916291</td>\n",
       "    </tr>\n",
       "  </tbody>\n",
       "</table>\n",
       "</div>"
      ],
      "text/plain": [
       "          idf_weights\n",
       "document     1.000000\n",
       "is           1.000000\n",
       "this         1.000000\n",
       "the          1.223144\n",
       "and          1.916291\n",
       "first        1.916291\n",
       "one          1.916291\n",
       "second       1.916291\n",
       "third        1.916291"
      ]
     },
     "execution_count": 36,
     "metadata": {},
     "output_type": "execute_result"
    }
   ],
   "source": [
    "df_idf = pd.DataFrame(TfidfTran.idf_, index=count_vectorizer.get_feature_names(),columns=[\"idf_weights\"])\n",
    "df_idf.sort_values('idf_weights')"
   ]
  },
  {
   "cell_type": "markdown",
   "metadata": {},
   "source": [
    "Observe que las palabras 'document', 'is', 'the' y 'this' tienen los valores IDF más bajos. Esto es de esperar, ya que estas palabras aparecen en todos y cada uno de los documentos de nuestra colección. Cuanto menor sea el valor IDF de una palabra, menos exclusiva será para cualquier documento en particular.\n",
    "\n",
    "**Nota importante:** En la práctica, su IDF debe basarse en un gran corpus de texto."
   ]
  },
  {
   "cell_type": "markdown",
   "metadata": {},
   "source": [
    "#### Calcule la puntuación TFIDF de sus documentos\n",
    "Una vez que tenga los valores IDF, ahora puede calcular las puntuaciones tf-idf para cualquier documento o conjunto de documentos. Calculemos las puntuaciones tf-idf para los 5 documentos de nuestra colección."
   ]
  },
  {
   "cell_type": "code",
   "execution_count": 37,
   "metadata": {},
   "outputs": [
    {
     "data": {
      "text/plain": [
       "<matplotlib.lines.Line2D at 0x1bb0d7f64f0>"
      ]
     },
     "execution_count": 37,
     "metadata": {},
     "output_type": "execute_result"
    },
    {
     "data": {
      "image/png": "[encoded data removed]",
      "text/plain": [
       "<Figure size 504x504 with 1 Axes>"
      ]
     },
     "metadata": {
      "needs_background": "light"
     },
     "output_type": "display_data"
    }
   ],
   "source": [
    "count_vector=count_vectorizer.transform(corpus)\n",
    "\n",
    "tf_idf_vector = TfidfTran.transform(count_vector)\n",
    "\n",
    "plt.figure(figsize=(7,7))\n",
    "plt.spy(tf_idf_vector)"
   ]
  },
  {
   "cell_type": "markdown",
   "metadata": {},
   "source": [
    "La primera línea de arriba, obtiene el recuento de palabras de los documentos en forma de matriz dispersa. De hecho, podríamos haber usado ``` word_count_vector ``` desde arriba. Sin embargo, en la práctica, es posible que esté calculando las puntuaciones tf-idf en un conjunto de documentos nuevos que no se han visto. Cuando haga eso, primero tendrá ``` cv.transform(your_new_docs) ``` que generar la matriz de recuentos de palabras.\n",
    "\n",
    "Luego, al invocar ``` tfidf_transformer.transform(count_vector) ```, finalmente calculará las puntuaciones tf-idf para sus documentos. Internamente, esto está calculando la ``` tf * idf ```  multiplicación donde la frecuencia de su término está ponderada por sus valores IDF.\n",
    "\n",
    "Ahora, imprimamos los valores tf-idf del primer documento para ver si tiene sentido. Lo que estamos haciendo a continuación es colocar las puntuaciones tf-idf del primer documento en un marco de datos de pandas y clasificarlo en orden descendente de puntuaciones."
   ]
  },
  {
   "cell_type": "code",
   "execution_count": 38,
   "metadata": {},
   "outputs": [
    {
     "data": {
      "text/plain": [
       "array([[0.  , 0.58, 0.  , 0.58, 0.  , 0.  , 0.  , 0.  , 0.58],\n",
       "       [0.  , 0.6 , 0.  , 0.3 , 0.  , 0.57, 0.37, 0.  , 0.3 ],\n",
       "       [0.49, 0.25, 0.  , 0.25, 0.49, 0.  , 0.31, 0.49, 0.25],\n",
       "       [0.  , 0.35, 0.67, 0.35, 0.  , 0.  , 0.43, 0.  , 0.35]])"
      ]
     },
     "execution_count": 38,
     "metadata": {},
     "output_type": "execute_result"
    }
   ],
   "source": [
    "tf_idf_vector.toarray().round(2)"
   ]
  },
  {
   "cell_type": "code",
   "execution_count": 40,
   "metadata": {},
   "outputs": [
    {
     "data": {
      "text/html": [
       "<div>\n",
       "<style scoped>\n",
       "    .dataframe tbody tr th:only-of-type {\n",
       "        vertical-align: middle;\n",
       "    }\n",
       "\n",
       "    .dataframe tbody tr th {\n",
       "        vertical-align: top;\n",
       "    }\n",
       "\n",
       "    .dataframe thead th {\n",
       "        text-align: right;\n",
       "    }\n",
       "</style>\n",
       "<table border=\"1\" class=\"dataframe\">\n",
       "  <thead>\n",
       "    <tr style=\"text-align: right;\">\n",
       "      <th></th>\n",
       "      <th>tfidf</th>\n",
       "    </tr>\n",
       "  </thead>\n",
       "  <tbody>\n",
       "    <tr>\n",
       "      <th>document</th>\n",
       "      <td>0.57735</td>\n",
       "    </tr>\n",
       "    <tr>\n",
       "      <th>is</th>\n",
       "      <td>0.57735</td>\n",
       "    </tr>\n",
       "    <tr>\n",
       "      <th>this</th>\n",
       "      <td>0.57735</td>\n",
       "    </tr>\n",
       "    <tr>\n",
       "      <th>and</th>\n",
       "      <td>0.00000</td>\n",
       "    </tr>\n",
       "    <tr>\n",
       "      <th>first</th>\n",
       "      <td>0.00000</td>\n",
       "    </tr>\n",
       "    <tr>\n",
       "      <th>one</th>\n",
       "      <td>0.00000</td>\n",
       "    </tr>\n",
       "    <tr>\n",
       "      <th>second</th>\n",
       "      <td>0.00000</td>\n",
       "    </tr>\n",
       "    <tr>\n",
       "      <th>the</th>\n",
       "      <td>0.00000</td>\n",
       "    </tr>\n",
       "    <tr>\n",
       "      <th>third</th>\n",
       "      <td>0.00000</td>\n",
       "    </tr>\n",
       "  </tbody>\n",
       "</table>\n",
       "</div>"
      ],
      "text/plain": [
       "            tfidf\n",
       "document  0.57735\n",
       "is        0.57735\n",
       "this      0.57735\n",
       "and       0.00000\n",
       "first     0.00000\n",
       "one       0.00000\n",
       "second    0.00000\n",
       "the       0.00000\n",
       "third     0.00000"
      ]
     },
     "execution_count": 40,
     "metadata": {},
     "output_type": "execute_result"
    }
   ],
   "source": [
    "feature_names = count_vectorizer.get_feature_names() \n",
    " \n",
    "#get tfidf vector for first document \n",
    "first_document_vector=tf_idf_vector[0] \n",
    " \n",
    "#print the scores \n",
    "df = pd.DataFrame(first_document_vector.T.todense(), index=feature_names, columns=[\"tfidf\"]) \n",
    "df.sort_values(by=[\"tfidf\"],ascending=False)"
   ]
  },
  {
   "cell_type": "markdown",
   "metadata": {},
   "source": [
    "Observe que solo ciertas palabras tienen puntajes. Esto se debe a que nuestro primer documento es “This is the first document.”   todas las palabras de este documento tienen una puntuación tf-idf y todo lo demás aparece como ceros. Observe que falta la palabra \"a\" en esta lista. Esto posiblemente se deba al preprocesamiento interno de CountVectorizer, donde elimina caracteres individuales.\n",
    "\n",
    "Las puntuaciones anteriores tienen sentido. Cuanto más común sea la palabra en todos los documentos, menor será su puntuación y cuanto más única sea una palabra para nuestro primer documento (por ejemplo, \"document\", \"is\" y \"this\"), mayor será la puntuación. Entonces está funcionando como se esperaba, excepto por el misterioso a que fue cortado"
   ]
  },
  {
   "cell_type": "markdown",
   "metadata": {},
   "source": [
    "### TfidfVectorizer\n",
    "Ahora, vamos a utilizar los mismos 5 documentos de arriba para hacer lo mismo que hicimos con Tfidftransformer, que es obtener las puntuaciones tf-idf de un conjunto de documentos. Pero observe que esto es mucho más corto.\n",
    "\n",
    "Con Tfidfvectorizer, calcula los recuentos de palabras, los valores idf y tf-idf todos a la vez. Es realmente simple."
   ]
  },
  {
   "cell_type": "code",
   "execution_count": 56,
   "metadata": {},
   "outputs": [
    {
     "data": {
      "text/plain": [
       "<matplotlib.lines.Line2D at 0x1bb0db9ec10>"
      ]
     },
     "execution_count": 56,
     "metadata": {},
     "output_type": "execute_result"
    },
    {
     "data": {
      "image/png": "[encoded data removed]",
      "text/plain": [
       "<Figure size 648x648 with 1 Axes>"
      ]
     },
     "metadata": {
      "needs_background": "light"
     },
     "output_type": "display_data"
    }
   ],
   "source": [
    "tfidf = TfidfVectorizer(min_df=1, max_df=1.0, ngram_range=(1, 1), use_idf=True)\n",
    "\n",
    "tfidf_vectorizer_vectors = tfidf.fit_transform(corpus)\n",
    "\n",
    "plt.figure(figsize=(9,9))\n",
    "plt.spy(tfidf_vectorizer_vectors)"
   ]
  },
  {
   "cell_type": "markdown",
   "metadata": {},
   "source": [
    "Ahora imprimamos los valores tfidf para el primer documento de nuestra colección. Note que estos valores son idénticos a los de Tfidftransformer, lo único es que se hace en solo dos pasos."
   ]
  },
  {
   "cell_type": "code",
   "execution_count": 58,
   "metadata": {},
   "outputs": [
    {
     "data": {
      "text/html": [
       "<div>\n",
       "<style scoped>\n",
       "    .dataframe tbody tr th:only-of-type {\n",
       "        vertical-align: middle;\n",
       "    }\n",
       "\n",
       "    .dataframe tbody tr th {\n",
       "        vertical-align: top;\n",
       "    }\n",
       "\n",
       "    .dataframe thead th {\n",
       "        text-align: right;\n",
       "    }\n",
       "</style>\n",
       "<table border=\"1\" class=\"dataframe\">\n",
       "  <thead>\n",
       "    <tr style=\"text-align: right;\">\n",
       "      <th></th>\n",
       "      <th>tfidf</th>\n",
       "    </tr>\n",
       "  </thead>\n",
       "  <tbody>\n",
       "    <tr>\n",
       "      <th>document</th>\n",
       "      <td>0.57735</td>\n",
       "    </tr>\n",
       "    <tr>\n",
       "      <th>is</th>\n",
       "      <td>0.57735</td>\n",
       "    </tr>\n",
       "    <tr>\n",
       "      <th>this</th>\n",
       "      <td>0.57735</td>\n",
       "    </tr>\n",
       "    <tr>\n",
       "      <th>and</th>\n",
       "      <td>0.00000</td>\n",
       "    </tr>\n",
       "    <tr>\n",
       "      <th>first</th>\n",
       "      <td>0.00000</td>\n",
       "    </tr>\n",
       "    <tr>\n",
       "      <th>one</th>\n",
       "      <td>0.00000</td>\n",
       "    </tr>\n",
       "    <tr>\n",
       "      <th>second</th>\n",
       "      <td>0.00000</td>\n",
       "    </tr>\n",
       "    <tr>\n",
       "      <th>the</th>\n",
       "      <td>0.00000</td>\n",
       "    </tr>\n",
       "    <tr>\n",
       "      <th>third</th>\n",
       "      <td>0.00000</td>\n",
       "    </tr>\n",
       "  </tbody>\n",
       "</table>\n",
       "</div>"
      ],
      "text/plain": [
       "            tfidf\n",
       "document  0.57735\n",
       "is        0.57735\n",
       "this      0.57735\n",
       "and       0.00000\n",
       "first     0.00000\n",
       "one       0.00000\n",
       "second    0.00000\n",
       "the       0.00000\n",
       "third     0.00000"
      ]
     },
     "execution_count": 58,
     "metadata": {},
     "output_type": "execute_result"
    }
   ],
   "source": [
    "first_vector_tfidfvectorizer=tfidf_vectorizer_vectors[0] \n",
    "\n",
    "df = pd.DataFrame(first_vector_tfidfvectorizer.T.todense(), index=tfidf.get_feature_names(), columns=[\"tfidf\"]) \n",
    "df.sort_values(by=[\"tfidf\"],ascending=False)"
   ]
  },
  {
   "cell_type": "markdown",
   "metadata": {},
   "source": [
    "### Tfidftransformer vs. Tfidfvectorizer\n",
    "En resumen, la principal diferencia entre los dos módulos es la siguiente:\n",
    "\n",
    "Con **Tfidftransformer** , calculará sistemáticamente los recuentos de palabras utilizando **CountVectorizer** y luego calculará los valores de **Frecuencia de documento inversa** (IDF) y solo entonces calculará las puntuaciones de Tf-idf.\n",
    "\n",
    "Con **Tfidfvectorizer**, por el contrario, realizará los tres pasos a la vez. Bajo el capó, calcula los recuentos de palabras, los valores de IDF y las puntuaciones de Tf-idf, todos utilizando el mismo conjunto de datos."
   ]
  },
  {
   "cell_type": "markdown",
   "metadata": {},
   "source": [
    "### ¿Cuándo usar qué?\n",
    "Así que ahora se estará preguntando por qué debería utilizar más pasos de los necesarios si puede hacer todo en dos pasos. Bueno, hay casos en los que desea utilizar Tfidftransformer sobre Tfidfvectorizer y, a veces, no es tan obvio. Aquí hay una pauta general:\\\n",
    "* Si necesita el término vectores de frecuencia (recuento de términos) para diferentes tareas, use Tfidftransformer.\n",
    "* Si necesita calcular las puntuaciones tf-idf en documentos dentro de su conjunto de datos de \"entrenamiento\", use **Tfidfvectorizer**.\n",
    "* Si necesita calcular las puntuaciones tf-idf en documentos fuera de su conjunto de datos de \"entrenamiento\", use cualquiera de ellos, **ambos funcionarán.**"
   ]
  },
  {
   "cell_type": "markdown",
   "metadata": {},
   "source": [
    "### Recursos\n",
    "* [Tutorial de Notebook para Tfidftransformer y Tfidfvectorizer](https://github.com/kavgan/nlp-in-practice/tree/master/tfidftransformer)\n",
    "\n",
    "### Recommended Reading\n",
    "* [Cómo utilizar CountVectorizer](https://kavita-ganesan.com/how-to-use-countvectorizer/)\n",
    "* [Extracción de palabras clave con TF-IDF y Scikit Learn](https://kavita-ganesan.com/python-keyword-extraction/)\n",
    "* [¿Qué es la frecuencia de término?](https://kavita-ganesan.com/what-is-term-frequency/#.Xb2W0pNKjm0)\n",
    "* [¿Qué es IDF?](https://kavita-ganesan.com/what-is-inverse-document-frequency/)\n"
   ]
  }
 ],
 "metadata": {
  "interpreter": {
   "hash": "c4547dae46a4e2d47e5e7e81c258ee8f975cc6d9ac4fdf92fab0d557a46ed73a"
  },
  "kernelspec": {
   "display_name": "Python 3.9.7 64-bit ('nlpenv': venv)",
   "language": "python",
   "name": "python3"
  },
  "language_info": {
   "codemirror_mode": {
    "name": "ipython",
    "version": 3
   },
   "file_extension": ".py",
   "mimetype": "text/x-python",
   "name": "python",
   "nbconvert_exporter": "python",
   "pygments_lexer": "ipython3",
   "version": "3.9.7"
  },
  "orig_nbformat": 4
 },
 "nbformat": 4,
 "nbformat_minor": 2
}
